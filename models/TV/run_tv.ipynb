{
 "nbformat": 4,
 "nbformat_minor": 2,
 "metadata": {
  "language_info": {
   "name": "python",
   "codemirror_mode": {
    "name": "ipython",
    "version": 3
   },
   "version": "3.6.8"
  },
  "orig_nbformat": 2,
  "file_extension": ".py",
  "mimetype": "text/x-python",
  "name": "python",
  "npconvert_exporter": "python",
  "pygments_lexer": "ipython3",
  "version": 3
 },
 "cells": [
  {
   "cell_type": "code",
   "execution_count": 2,
   "metadata": {},
   "outputs": [
    {
     "name": "stdout",
     "output_type": "stream",
     "text": "cartesian_1d\nusing fastmri dataset\nusing calgary dataset\n100%|███████████████████████████████████████████| 10/10 [00:20<00:00,  1.88s/it]\n"
    }
   ],
   "source": [
    "! python models/TV/gen_tv_mat.py \\\n",
    "    -data-path ../data/CC359/ \\\n",
    "    -mask-style cartesian_1d \\\n",
    "    -cf 0.08 -acc 4 \\\n",
    "    -out-dir exp_dir/TV/Cartesian_X4/raw/"
   ]
  },
  {
   "cell_type": "code",
   "execution_count": 6,
   "metadata": {},
   "outputs": [
    {
     "name": "stdout",
     "output_type": "stream",
     "text": "100%|███████████████████████████████████████████| 10/10 [00:50<00:00,  4.99s/it]\n||NMSE|PSNR|SSIM|nameList|\n|:-:|:-:|:-:|:-:|\n|mean|0.201108|22.0424|0.7919|\n|std|0.097187|2.2845|0.0219|\n"
    }
   ],
   "source": [
    "# ! python utils/eval.py -pred-dir exp_dir/TV/Cartesian_X4/infer/ \\\n",
    "#     -out-dir exp_dir/TV/Cartesian_X4/\n",
    "! python utils/eval_2d.py --pred-dir exp_dir/TV/Cartesian_X4/infer/ \\\n",
    "    --out-path exp_dir/TV/Cartesian_X4/"
   ]
  },
  {
   "cell_type": "code",
   "execution_count": 4,
   "metadata": {},
   "outputs": [
    {
     "name": "stdout",
     "output_type": "stream",
     "text": "100%|███████████████████████████████████████████| 10/10 [00:29<00:00,  2.93s/it]\n||NMSE|PSNR|SSIM|nameList|\n|:-:|:-:|:-:|:-:|\n|mean|0.667813|15.0684|0.2157|\n|std|0.075577|0.6329|0.0306|\n"
    }
   ],
   "source": [
    "! python utils/eval_tvmat.py --pred-dir exp_dir/TV/Cartesian_X4/infer/ \\\n",
    " --out-path exp_dir/TV/Cartesian_X4/"
   ]
  },
  {
   "cell_type": "code",
   "metadata": {},
   "outputs": [],
   "source": [
    "python models/TV/run_tv.py  \\\n",
    "    -data-path ../data/CC359/     \\\n",
    "    -mask-style cartesian_1d     \\\n",
    "    -cf 0.06 -acc 6     \\\n",
    "    -out-dir exp_dir/TV/Cartesian_X6/infer/ \\\n",
    "&& python models/TV/run_tv.py  \\\n",
    "    -data-path ../data/CC359/     \\\n",
    "    -mask-style cartesian_1d     \\\n",
    "    -cf 0.04 -acc 8     \\\n",
    "    -out-dir exp_dir/TV/Cartesian_X8/infer/\n",
    "\n"
   ]
  },
  {
   "cell_type": "code",
   "execution_count": null,
   "metadata": {},
   "outputs": [],
   "source": [
    "python utils/eval.py -pred-dir exp_dir/TV/Poisson_X8/infer/ \\\n",
    "    -out-dir exp_dir/TV/Poisson_X8/\n",
    "python utils/eval_2d.py --pred-dir exp_dir/TV/Poisson_X8/infer/ \\\n",
    "    --out-path exp_dir/TV/Poisson_X8/"
   ]
  }
 ]
}