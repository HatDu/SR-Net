{
 "nbformat": 4,
 "nbformat_minor": 2,
 "metadata": {
  "language_info": {
   "name": "python",
   "codemirror_mode": {
    "name": "ipython",
    "version": 3
   },
   "version": "3.6.8"
  },
  "orig_nbformat": 2,
  "file_extension": ".py",
  "mimetype": "text/x-python",
  "name": "python",
  "npconvert_exporter": "python",
  "pygments_lexer": "ipython3",
  "version": 3
 },
 "cells": [
  {
   "cell_type": "code",
   "metadata": {},
   "outputs": [],
   "source": [
    "! python models/ZF/run_zf.py \\\n",
    "    -data-path ../data/CC359/ \\\n",
    "    -out-dir exp_dir/ZF/Poisson_X8/infer/ \\\n",
    "    -mask-style poisson_2d \\\n",
    "    -cf 0.04 -acc 9.754\n",
    "# ! python models/ZF/run_zf.py \\\n",
    "#     -data-path ../data/CC359/ \\\n",
    "#     -out-dir exp_dir/ZF/Cartesian_X6/infer/ \\\n",
    "#     -mask-style cartesian_1d \\\n",
    "#     -cf 0.06 -acc 6"
   ]
  },
  {
   "cell_type": "code",
   "metadata": {},
   "outputs": [],
   "source": [
    "! python utils/eval.py -pred-dir exp_dir/ZF/Poisson_X8/infer \\\n",
    "    -out-dir exp_dir/ZF/Poisson_X8/\n",
    "! python utils/eval_2d.py --pred-dir exp_dir/ZF/Poisson_X8/infer \\\n",
    "    --out-path exp_dir/ZF/Poisson_X8/"
   ]
  },
  {
   "cell_type": "code",
   "metadata": {},
   "outputs": [],
   "source": []
  }
 ]
}